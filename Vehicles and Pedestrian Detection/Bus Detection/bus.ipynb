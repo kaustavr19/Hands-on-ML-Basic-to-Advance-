{
 "cells": [
  {
   "cell_type": "markdown",
   "id": "c908ee57",
   "metadata": {},
   "source": [
    "# Bus Detection"
   ]
  },
  {
   "cell_type": "code",
   "execution_count": 1,
   "id": "04fcc289",
   "metadata": {},
   "outputs": [],
   "source": [
    "import cv2"
   ]
  },
  {
   "cell_type": "code",
   "execution_count": 2,
   "id": "6bf37ed5",
   "metadata": {},
   "outputs": [],
   "source": [
    "cap = cv2.VideoCapture('bus1.mp4')\n",
    "\n",
    "bus_cascade = cv2.CascadeClassifier('Bus_front.xml')"
   ]
  },
  {
   "cell_type": "code",
   "execution_count": 3,
   "id": "299dd28b",
   "metadata": {},
   "outputs": [],
   "source": [
    "while True:\n",
    "    ret, img = cap.read()\n",
    "   \n",
    "    if (type(img) == type(None)):\n",
    "        break\n",
    "    gray = cv2.cvtColor(img, cv2.COLOR_BGR2GRAY)\n",
    "    \n",
    "    bus = bus_cascade.detectMultiScale(gray, 1.1, 2)\n",
    "\n",
    "\n",
    "    for (x,y,w,h) in bus:\n",
    "        cv2.rectangle(img,(x,y),(x+w,y+h),(0,255,255),2)\n",
    "    \n",
    "    cv2.imshow('video', img)\n",
    "   \n",
    "    \n",
    "    if cv2.waitKey(33) == 27:\n",
    "        break\n",
    "\n",
    "cv2.destroyAllWindows()"
   ]
  },
  {
   "cell_type": "code",
   "execution_count": null,
   "id": "e3725284",
   "metadata": {},
   "outputs": [],
   "source": []
  }
 ],
 "metadata": {
  "kernelspec": {
   "display_name": "Python 3 (ipykernel)",
   "language": "python",
   "name": "python3"
  },
  "language_info": {
   "codemirror_mode": {
    "name": "ipython",
    "version": 3
   },
   "file_extension": ".py",
   "mimetype": "text/x-python",
   "name": "python",
   "nbconvert_exporter": "python",
   "pygments_lexer": "ipython3",
   "version": "3.8.5"
  }
 },
 "nbformat": 4,
 "nbformat_minor": 5
}
