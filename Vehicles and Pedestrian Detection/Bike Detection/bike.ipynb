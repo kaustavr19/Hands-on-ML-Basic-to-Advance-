{
 "cells": [
  {
   "cell_type": "markdown",
   "id": "84033ffb",
   "metadata": {},
   "source": [
    "# Bike Detection"
   ]
  },
  {
   "cell_type": "code",
   "execution_count": 1,
   "id": "594ea038",
   "metadata": {},
   "outputs": [],
   "source": [
    "import cv2"
   ]
  },
  {
   "cell_type": "code",
   "execution_count": 2,
   "id": "95f97cff",
   "metadata": {},
   "outputs": [],
   "source": [
    "cap = cv2.VideoCapture('two_wheeler2.mp4')\n",
    "\n",
    "bike_cascade = cv2.CascadeClassifier('bike.xml')\n"
   ]
  },
  {
   "cell_type": "code",
   "execution_count": 3,
   "id": "f74eee8c",
   "metadata": {},
   "outputs": [],
   "source": [
    "while True:\n",
    "    ret, img = cap.read()\n",
    "    \n",
    "    if (type(img) == type(None)):\n",
    "        break\n",
    "    \n",
    "    gray = cv2.cvtColor(img, cv2.COLOR_BGR2GRAY)\n",
    "    \n",
    "    bike= bike_cascade.detectMultiScale(gray,1.01, 1)\n",
    "\n",
    "\n",
    "    for (x,y,w,h) in bike:\n",
    "        cv2.rectangle(img,(x,y),(x+w,y+h),(0,255,215),2)\n",
    "    \n",
    "    cv2.imshow('video', img)\n",
    "    \n",
    "    if cv2.waitKey(33) == 27:\n",
    "        break\n",
    "\n",
    "cv2.destroyAllWindows()"
   ]
  },
  {
   "cell_type": "code",
   "execution_count": null,
   "id": "8df4730d",
   "metadata": {},
   "outputs": [],
   "source": []
  }
 ],
 "metadata": {
  "kernelspec": {
   "display_name": "Python 3 (ipykernel)",
   "language": "python",
   "name": "python3"
  },
  "language_info": {
   "codemirror_mode": {
    "name": "ipython",
    "version": 3
   },
   "file_extension": ".py",
   "mimetype": "text/x-python",
   "name": "python",
   "nbconvert_exporter": "python",
   "pygments_lexer": "ipython3",
   "version": "3.8.5"
  }
 },
 "nbformat": 4,
 "nbformat_minor": 5
}
