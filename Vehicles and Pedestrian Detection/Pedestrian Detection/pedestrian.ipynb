{
 "cells": [
  {
   "cell_type": "markdown",
   "id": "54fcb315",
   "metadata": {},
   "source": [
    "# Pedestrian Detection"
   ]
  },
  {
   "cell_type": "code",
   "execution_count": 1,
   "id": "a26b6346",
   "metadata": {},
   "outputs": [],
   "source": [
    "import cv2"
   ]
  },
  {
   "cell_type": "code",
   "execution_count": 2,
   "id": "c119b91b",
   "metadata": {},
   "outputs": [],
   "source": [
    "cap = cv2.VideoCapture('pedestrians.avi')\n",
    "\n",
    "p_cascade = cv2.CascadeClassifier('pedestrian.xml')"
   ]
  },
  {
   "cell_type": "code",
   "execution_count": 3,
   "id": "e3dc9f8e",
   "metadata": {},
   "outputs": [],
   "source": [
    "while True:\n",
    "    ret, img = cap.read()\n",
    "    \n",
    "    if (type(img) == type(None)):\n",
    "        break\n",
    "    \n",
    "    gray = cv2.cvtColor(img, cv2.COLOR_BGR2GRAY)\n",
    "    p = p_cascade.detectMultiScale(gray,1.3,2)\n",
    "\n",
    "    for(a,b,c,d) in p:\n",
    "        cv2.rectangle(img,(a,b),(a+c,b+d),(0,255,210),4)\n",
    "    \n",
    "    cv2.imshow('video', img)\n",
    "    \n",
    "    if cv2.waitKey(33) == 27:\n",
    "        break\n",
    "\n",
    "cv2.destroyAllWindows()"
   ]
  },
  {
   "cell_type": "code",
   "execution_count": null,
   "id": "378d6e98",
   "metadata": {},
   "outputs": [],
   "source": []
  }
 ],
 "metadata": {
  "kernelspec": {
   "display_name": "Python 3 (ipykernel)",
   "language": "python",
   "name": "python3"
  },
  "language_info": {
   "codemirror_mode": {
    "name": "ipython",
    "version": 3
   },
   "file_extension": ".py",
   "mimetype": "text/x-python",
   "name": "python",
   "nbconvert_exporter": "python",
   "pygments_lexer": "ipython3",
   "version": "3.8.5"
  }
 },
 "nbformat": 4,
 "nbformat_minor": 5
}
